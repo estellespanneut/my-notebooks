{
  "nbformat": 4,
  "nbformat_minor": 0,
  "metadata": {
    "colab": {
      "name": "My First Notebook.ipynb",
      "provenance": [],
      "authorship_tag": "ABX9TyN9J+TzB2SJjGJpzE8oHqKP",
      "include_colab_link": true
    },
    "kernelspec": {
      "name": "python3",
      "display_name": "Python 3"
    }
  },
  "cells": [
    {
      "cell_type": "markdown",
      "metadata": {
        "id": "view-in-github",
        "colab_type": "text"
      },
      "source": [
        "<a href=\"https://colab.research.google.com/github/estellespanneut/my-notebooks/blob/main/My_First_Notebook.ipynb\" target=\"_parent\"><img src=\"https://colab.research.google.com/assets/colab-badge.svg\" alt=\"Open In Colab\"/></a>"
      ]
    },
    {
      "cell_type": "markdown",
      "metadata": {
        "id": "DHD7-n0HzLBY"
      },
      "source": [
        "Here is some sample text here\r\n"
      ]
    },
    {
      "cell_type": "code",
      "metadata": {
        "colab": {
          "base_uri": "https://localhost:8080/"
        },
        "id": "ZWMUdok0y_WY",
        "outputId": "0fd14372-635b-4224-c645-ff6fbc56d7bf"
      },
      "source": [
        "# This is some example python code\r\n",
        "# These lines starting with # are \"comments\"\r\n",
        "# Don't be confused that # means something different in .md files than .py files\r\n",
        "\r\n",
        "print(\"HELLO WORLD!\")\r\n",
        "\r\n",
        "x = 2 + 2\r\n",
        "print(x)"
      ],
      "execution_count": 1,
      "outputs": [
        {
          "output_type": "stream",
          "text": [
            "HELLO WORLD!\n",
            "4\n"
          ],
          "name": "stdout"
        }
      ]
    },
    {
      "cell_type": "markdown",
      "metadata": {
        "id": "sfokg69jz8z7"
      },
      "source": [
        ""
      ]
    }
  ]
}